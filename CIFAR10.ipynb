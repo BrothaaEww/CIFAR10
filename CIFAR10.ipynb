{
  "nbformat": 4,
  "nbformat_minor": 0,
  "metadata": {
    "colab": {
      "provenance": [],
      "include_colab_link": true
    },
    "kernelspec": {
      "name": "python3",
      "display_name": "Python 3"
    },
    "language_info": {
      "name": "python"
    }
  },
  "cells": [
    {
      "cell_type": "markdown",
      "metadata": {
        "id": "view-in-github",
        "colab_type": "text"
      },
      "source": [
        "<a href=\"https://colab.research.google.com/github/BrothaaEww/CIFAR10/blob/main/CIFAR10.ipynb\" target=\"_parent\"><img src=\"https://colab.research.google.com/assets/colab-badge.svg\" alt=\"Open In Colab\"/></a>"
      ]
    },
    {
      "cell_type": "code",
      "execution_count": null,
      "metadata": {
        "id": "6q-DA3lEDGlW"
      },
      "outputs": [],
      "source": [
        "# Step 1. Import Tensorflow and other helper libraries\n",
        "\n",
        "# make sure tensorflow is installed; uncomment the line before if you need to\n",
        "# pip install tensorflow\n",
        "\n",
        "# TensorFlow and tf.keras\n",
        "import tensorflow as tf\n",
        "\n",
        "# Helper libraries\n",
        "import numpy as np\n",
        "import matplotlib.pyplot as plt\n",
        "from tensorflow.keras import datasets, layers, models  #this is a new dependency!"
      ]
    },
    {
      "cell_type": "code",
      "source": [
        "# Step 2. Load the CIFAR-10 data\n",
        "cifar10 = tf.keras.datasets.cifar10\n",
        "(x_train, y_train), (x_test, y_test) = cifar10.load_data()"
      ],
      "metadata": {
        "colab": {
          "base_uri": "https://localhost:8080/"
        },
        "id": "sn1_oGPCDeEF",
        "outputId": "5f6f57c8-5df8-4bf4-905f-f49288241c10"
      },
      "execution_count": null,
      "outputs": [
        {
          "output_type": "stream",
          "name": "stdout",
          "text": [
            "Downloading data from https://www.cs.toronto.edu/~kriz/cifar-10-python.tar.gz\n",
            "170500096/170498071 [==============================] - 2s 0us/step\n",
            "170508288/170498071 [==============================] - 2s 0us/step\n"
          ]
        }
      ]
    },
    {
      "cell_type": "code",
      "source": [
        "# Step 3. Pre-process and Explore the data\n",
        "\n",
        "# Pre-process the data: convert pixel intensities to double values between 0 and 1\n",
        "x_train, x_test = x_train / 255.0, x_test / 255.0\n",
        "\n",
        "# Write code to check the data has the correct shape/dimension\n",
        "# Insert your code below\n",
        "print(x_train.shape)\n",
        "print(x_test.shape)\n",
        "print(y_train.shape)\n",
        "print(y_test.shape)"
      ],
      "metadata": {
        "colab": {
          "base_uri": "https://localhost:8080/"
        },
        "id": "FEr_N5gPDq_N",
        "outputId": "a742e9ab-1dac-4b43-ad00-d0b84462877e"
      },
      "execution_count": null,
      "outputs": [
        {
          "output_type": "stream",
          "name": "stdout",
          "text": [
            "(50000, 32, 32, 3)\n",
            "(10000, 32, 32, 3)\n",
            "(50000, 1)\n",
            "(10000, 1)\n"
          ]
        }
      ]
    },
    {
      "cell_type": "code",
      "source": [
        "# Step 4. Build the tf.keras.Sequential model by stacking layers.\n",
        "\n",
        "# A. Create an \"empty\" sequential model and then add layers, one by one\n",
        "# B. Add a Conv2D layer with the following characteristics:\n",
        "#      - 32 output filters\n",
        "#      - each of size 5 by 5\n",
        "#      - use the Rectified Linear Unit as a non-linear activation function\n",
        "#      - no padding\n",
        "#      - the input shape is the same as the size of each of the images in the data set\n",
        "# C. Add a maxpooling layer with the following characteristics:\n",
        "#      - pool size is 2 by 2\n",
        "#      - stride is 1\n",
        "#      - no padding\n",
        "\n",
        "# Don't add any flatten or fulley connected layers at the end!\n",
        "\n",
        "# Insert your code below:\n",
        "model=models.Sequential()\n",
        "model.add(layers.Conv2D(32,(5,5),activation='relu',input_shape=(32,32,3)))\n",
        "model.add(layers.MaxPooling2D((2,2),strides=1))"
      ],
      "metadata": {
        "id": "9p2mZL9iDyDN"
      },
      "execution_count": null,
      "outputs": []
    },
    {
      "cell_type": "code",
      "source": [
        "model.summary()"
      ],
      "metadata": {
        "colab": {
          "base_uri": "https://localhost:8080/"
        },
        "id": "6VEw7PfCD6hU",
        "outputId": "da99d7b8-3089-4ebf-e0cd-5101ceca7f98"
      },
      "execution_count": null,
      "outputs": [
        {
          "output_type": "stream",
          "name": "stdout",
          "text": [
            "Model: \"sequential\"\n",
            "_________________________________________________________________\n",
            " Layer (type)                Output Shape              Param #   \n",
            "=================================================================\n",
            " conv2d (Conv2D)             (None, 28, 28, 32)        2432      \n",
            "                                                                 \n",
            " max_pooling2d (MaxPooling2D  (None, 27, 27, 32)       0         \n",
            " )                                                               \n",
            "                                                                 \n",
            "=================================================================\n",
            "Total params: 2,432\n",
            "Trainable params: 2,432\n",
            "Non-trainable params: 0\n",
            "_________________________________________________________________\n"
          ]
        }
      ]
    },
    {
      "cell_type": "code",
      "source": [
        "# Step 5. Add more layers.\n",
        "\n",
        "# A. Add a Conv2D layer with the following characteristics:\n",
        "#      - 32 output filters\n",
        "#      - each of size 3 by 3\n",
        "#      - use the Rectified Linear Unit as a non-linear activation function\n",
        "#      - no padding\n",
        "#      - the input shape is the size of the output shape from the last maxpooling layer\n",
        "# B. Add a maxpooling layer with the following characteristics:\n",
        "#      - pool size is 2 by 2\n",
        "#      - stride is 2\n",
        "#      - no padding\n",
        "\n",
        "# Don't add any flatten or fulley connected layers at the end!\n",
        "\n",
        "# Insert your code below:\n",
        "\n",
        "model.add(layers.Conv2D(32,(3,3),activation='relu',input_shape=(14,14,32)))\n",
        "model.add(layers.MaxPooling2D((2,2),strides=2))\n"
      ],
      "metadata": {
        "id": "6j5fYQqAED3s"
      },
      "execution_count": null,
      "outputs": []
    },
    {
      "cell_type": "code",
      "source": [
        "model.summary()"
      ],
      "metadata": {
        "colab": {
          "base_uri": "https://localhost:8080/"
        },
        "id": "o8MHfIJ4EHQ8",
        "outputId": "9141d91d-ff1f-447f-c046-b1b203e42887"
      },
      "execution_count": null,
      "outputs": [
        {
          "output_type": "stream",
          "name": "stdout",
          "text": [
            "Model: \"sequential\"\n",
            "_________________________________________________________________\n",
            " Layer (type)                Output Shape              Param #   \n",
            "=================================================================\n",
            " conv2d (Conv2D)             (None, 28, 28, 32)        2432      \n",
            "                                                                 \n",
            " max_pooling2d (MaxPooling2D  (None, 27, 27, 32)       0         \n",
            " )                                                               \n",
            "                                                                 \n",
            " conv2d_1 (Conv2D)           (None, 25, 25, 32)        9248      \n",
            "                                                                 \n",
            " max_pooling2d_1 (MaxPooling  (None, 12, 12, 32)       0         \n",
            " 2D)                                                             \n",
            "                                                                 \n",
            "=================================================================\n",
            "Total params: 11,680\n",
            "Trainable params: 11,680\n",
            "Non-trainable params: 0\n",
            "_________________________________________________________________\n"
          ]
        }
      ]
    },
    {
      "cell_type": "markdown",
      "source": [
        "# New Section"
      ],
      "metadata": {
        "id": "nq3ms0RQY5dU"
      }
    },
    {
      "cell_type": "markdown",
      "source": [
        "# New Section"
      ],
      "metadata": {
        "id": "s35CeAVuY6CF"
      }
    },
    {
      "cell_type": "markdown",
      "source": [
        "# New Section"
      ],
      "metadata": {
        "id": "JE0Xx_q-Y6iD"
      }
    },
    {
      "cell_type": "code",
      "source": [
        "model.add(layers.Conv2D(64, (3,3), activation='relu'))\n",
        "model.add(layers.Flatten())\n",
        "model.add(layers.Dense(1024))\n",
        "model.add(layers.Dense(10))# last layer should be the size of the output\n",
        "model.summary()"
      ],
      "metadata": {
        "colab": {
          "base_uri": "https://localhost:8080/"
        },
        "id": "JxJWUff4EN0k",
        "outputId": "8826e610-a5cf-4dd2-e6d2-3aff5929caff"
      },
      "execution_count": null,
      "outputs": [
        {
          "output_type": "stream",
          "name": "stdout",
          "text": [
            "Model: \"sequential\"\n",
            "_________________________________________________________________\n",
            " Layer (type)                Output Shape              Param #   \n",
            "=================================================================\n",
            " conv2d (Conv2D)             (None, 28, 28, 32)        2432      \n",
            "                                                                 \n",
            " max_pooling2d (MaxPooling2D  (None, 27, 27, 32)       0         \n",
            " )                                                               \n",
            "                                                                 \n",
            " conv2d_1 (Conv2D)           (None, 25, 25, 32)        9248      \n",
            "                                                                 \n",
            " max_pooling2d_1 (MaxPooling  (None, 12, 12, 32)       0         \n",
            " 2D)                                                             \n",
            "                                                                 \n",
            " conv2d_2 (Conv2D)           (None, 10, 10, 64)        18496     \n",
            "                                                                 \n",
            " flatten (Flatten)           (None, 6400)              0         \n",
            "                                                                 \n",
            " dense (Dense)               (None, 1024)              6554624   \n",
            "                                                                 \n",
            " dense_1 (Dense)             (None, 10)                10250     \n",
            "                                                                 \n",
            "=================================================================\n",
            "Total params: 6,595,050\n",
            "Trainable params: 6,595,050\n",
            "Non-trainable params: 0\n",
            "_________________________________________________________________\n"
          ]
        }
      ]
    },
    {
      "cell_type": "code",
      "source": [
        "predictions = model(x_train[:1]).numpy()\n",
        "predictions"
      ],
      "metadata": {
        "colab": {
          "base_uri": "https://localhost:8080/"
        },
        "id": "7V8CjHArEYVN",
        "outputId": "be4407d3-db6f-4285-df0e-8031db7b057d"
      },
      "execution_count": null,
      "outputs": [
        {
          "output_type": "execute_result",
          "data": {
            "text/plain": [
              "array([[-0.08142193,  0.12821814, -0.00940453,  0.08483977, -0.16616173,\n",
              "         0.05410087,  0.1099968 ,  0.06570664,  0.04591069, -0.02214016]],\n",
              "      dtype=float32)"
            ]
          },
          "metadata": {},
          "execution_count": 9
        }
      ]
    },
    {
      "cell_type": "code",
      "source": [
        "# Use the tf.nn.softmax function to convert these logits into \"probabilities\" for each class:\n",
        "tf.nn.softmax(predictions).numpy()\n"
      ],
      "metadata": {
        "colab": {
          "base_uri": "https://localhost:8080/"
        },
        "id": "6AydFC5aEb4e",
        "outputId": "e9f3f899-bcb8-45e7-e7ef-9ea6fa32f06f"
      },
      "execution_count": null,
      "outputs": [
        {
          "output_type": "execute_result",
          "data": {
            "text/plain": [
              "array([[0.08993602, 0.11091217, 0.09665192, 0.10620385, 0.08262885,\n",
              "        0.10298891, 0.1089095 , 0.10419115, 0.10214886, 0.09542879]],\n",
              "      dtype=float32)"
            ]
          },
          "metadata": {},
          "execution_count": 10
        }
      ]
    },
    {
      "cell_type": "code",
      "source": [
        "# Choose an optimizer and loss function for training\n",
        "\n",
        "# Deep learning neural networks are trained using the stochastic gradient descent optimization\n",
        "# algorithm. As part of the optimization algorithm, the error for the current state of the\n",
        "# model must be estimated repeatedly. This requires the choice of an error function,\n",
        "# conventionally called a loss function, that can be used to estimate the loss of the model so\n",
        "# that the weights can be updated to reduce the loss on the next evaluation.\n",
        "\n",
        "# The losses.SparseCategoricalCrossentropy loss takes a vector of logits and a True index and\n",
        "# returns a scalar loss for each example.\n",
        "\n",
        "loss_fn = tf.keras.losses.SparseCategoricalCrossentropy(from_logits=True)\n",
        "\n",
        "# This loss is equal to the negative log probability of the true class: It is zero if the model\n",
        "# is sure of the correct class. This untrained model gives probabilities close to random\n",
        "# (1/10 for each class), so the initial loss should be close to -tf.math.log(1/10) ~= 2.3.\n",
        "\n",
        "loss_fn(y_train[:1], predictions).numpy()"
      ],
      "metadata": {
        "colab": {
          "base_uri": "https://localhost:8080/"
        },
        "id": "MzX0hsVTEh0O",
        "outputId": "bb3aa588-fd81-4db9-a1ea-17b0192dcab5"
      },
      "execution_count": null,
      "outputs": [
        {
          "output_type": "execute_result",
          "data": {
            "text/plain": [
              "2.217238"
            ]
          },
          "metadata": {},
          "execution_count": 11
        }
      ]
    },
    {
      "cell_type": "code",
      "source": [
        "# Step 6: Ready to compile!\n",
        "# optimizer parameter = 'adam'. Other optimizer options here:\n",
        "# https://www.tensorflow.org/api_docs/python/tf/keras/optimizers\n",
        "# loss = the name of the loss function\n",
        "# Typically you will use metrics=['accuracy']\n",
        "model.compile(optimizer='adam', loss=loss_fn, metrics=['accuracy'])\n",
        "\n",
        "# Task: call the model.fit method to train the model for 10 iterations\n",
        "\n",
        "# Insert your code below:\n",
        "history=model.fit(x_train,y_train,epochs=10,validation_data=(x_test,y_test))\n"
      ],
      "metadata": {
        "colab": {
          "base_uri": "https://localhost:8080/"
        },
        "id": "7BXdQppfEowd",
        "outputId": "a58c0eae-170d-4472-b59e-89cc4ba9aa9a"
      },
      "execution_count": null,
      "outputs": [
        {
          "output_type": "stream",
          "name": "stdout",
          "text": [
            "Epoch 1/10\n",
            "1563/1563 [==============================] - 243s 155ms/step - loss: 1.5050 - accuracy: 0.4569 - val_loss: 1.3066 - val_accuracy: 0.5356\n",
            "Epoch 2/10\n",
            "1563/1563 [==============================] - 239s 153ms/step - loss: 1.2102 - accuracy: 0.5729 - val_loss: 1.1780 - val_accuracy: 0.5896\n",
            "Epoch 3/10\n",
            "1563/1563 [==============================] - 240s 154ms/step - loss: 1.0784 - accuracy: 0.6235 - val_loss: 1.1644 - val_accuracy: 0.5989\n",
            "Epoch 4/10\n",
            "1563/1563 [==============================] - 241s 154ms/step - loss: 0.9805 - accuracy: 0.6576 - val_loss: 1.1161 - val_accuracy: 0.6107\n",
            "Epoch 5/10\n",
            "1563/1563 [==============================] - 240s 154ms/step - loss: 0.9053 - accuracy: 0.6840 - val_loss: 1.1266 - val_accuracy: 0.6116\n",
            "Epoch 6/10\n",
            "1563/1563 [==============================] - 239s 153ms/step - loss: 0.8464 - accuracy: 0.7029 - val_loss: 1.1542 - val_accuracy: 0.6213\n",
            "Epoch 7/10\n",
            "1563/1563 [==============================] - 238s 152ms/step - loss: 0.7948 - accuracy: 0.7214 - val_loss: 1.2174 - val_accuracy: 0.6018\n",
            "Epoch 8/10\n",
            "1563/1563 [==============================] - 245s 157ms/step - loss: 0.7513 - accuracy: 0.7350 - val_loss: 1.2145 - val_accuracy: 0.6134\n",
            "Epoch 9/10\n",
            "1563/1563 [==============================] - 242s 155ms/step - loss: 0.7139 - accuracy: 0.7478 - val_loss: 1.2840 - val_accuracy: 0.6015\n",
            "Epoch 10/10\n",
            "1563/1563 [==============================] - 242s 155ms/step - loss: 0.6777 - accuracy: 0.7593 - val_loss: 1.3213 - val_accuracy: 0.5944\n"
          ]
        }
      ]
    },
    {
      "cell_type": "code",
      "source": [
        "# Step 7a. Evaluate the model: compare how the model performs on the test dataset\n",
        "\n",
        "# The Model.evaluate method checks the models performance, usually on a \"Validation-set\"\n",
        "# or \"Test-set\".\n",
        "\n",
        "test_loss, test_acc = model.evaluate(x_test,  y_test, verbose=2)\n",
        "\n",
        "print('\\nTest accuracy:', test_acc)"
      ],
      "metadata": {
        "colab": {
          "base_uri": "https://localhost:8080/"
        },
        "id": "6k2sJzTOL9Pp",
        "outputId": "ea672d68-6fac-414f-ffe7-20f6958f9e43"
      },
      "execution_count": null,
      "outputs": [
        {
          "output_type": "stream",
          "name": "stdout",
          "text": [
            "313/313 - 9s - loss: 1.3213 - accuracy: 0.5944 - 9s/epoch - 30ms/step\n",
            "\n",
            "Test accuracy: 0.5943999886512756\n"
          ]
        }
      ]
    },
    {
      "cell_type": "code",
      "source": [
        "# 7b. Plot training vs testing accuracy\n",
        "\n",
        "#history = model.fit(x_train, y_train, epochs=10, validation_data=(x_test, y_test))\n",
        "plt.plot(history.history['accuracy'], label='accuracy')\n",
        "plt.plot(history.history['val_accuracy'], label = 'val_accuracy')\n",
        "plt.xlabel('Epoch')\n",
        "plt.ylabel('Accuracy')\n",
        "plt.ylim([0.5, 1])\n",
        "plt.legend(loc='lower right')\n",
        "\n",
        "test_loss, test_acc = model.evaluate(x_test,  y_test, verbose=2)"
      ],
      "metadata": {
        "colab": {
          "base_uri": "https://localhost:8080/",
          "height": 300
        },
        "id": "AraZa2WWOSiS",
        "outputId": "22b7753b-bdf6-4597-e9bd-4e478a20f990"
      },
      "execution_count": null,
      "outputs": [
        {
          "output_type": "stream",
          "name": "stdout",
          "text": [
            "313/313 - 13s - loss: 1.3213 - accuracy: 0.5944 - 13s/epoch - 42ms/step\n"
          ]
        },
        {
          "output_type": "display_data",
          "data": {
            "text/plain": [
              "<Figure size 432x288 with 1 Axes>"
            ],
            "image/png": "[encoded data removed]"
          },
          "metadata": {
            "needs_background": "light"
          }
        }
      ]
    },
    {
      "cell_type": "code",
      "source": [
        "# 8. Make predictions\n",
        "\n",
        "# If you want your model to return a probability, you can wrap the trained model, and attach\n",
        "# the softmax classifier to it:\n",
        "\n",
        "probability_model = tf.keras.Sequential([model,tf.keras.layers.Softmax()])\n",
        "predictions = probability_model.predict(x_test[:10])# test the first 10 images\n",
        "#print(predictions.shape)\n",
        "predictions[0]"
      ],
      "metadata": {
        "colab": {
          "base_uri": "https://localhost:8080/"
        },
        "id": "y9vj-_pKOcqg",
        "outputId": "028732af-7b1a-4fe9-80ca-153627c7d48c"
      },
      "execution_count": null,
      "outputs": [
        {
          "output_type": "execute_result",
          "data": {
            "text/plain": [
              "array([0.00099007, 0.01299736, 0.07565431, 0.4474464 , 0.2719816 ,\n",
              "       0.11093412, 0.04183151, 0.01996757, 0.01599619, 0.00220091],\n",
              "      dtype=float32)"
            ]
          },
          "metadata": {},
          "execution_count": 15
        }
      ]
    },
    {
      "cell_type": "code",
      "source": [
        "# Apply a label and compare with the test label\n",
        "\n",
        "print(np.argmax(predictions, axis = 1))\n",
        "print(y_test[:10])\n"
      ],
      "metadata": {
        "colab": {
          "base_uri": "https://localhost:8080/"
        },
        "id": "8254m0LjOu0f",
        "outputId": "a2b7ac22-d8f0-42d3-f3e7-dc6dbca06763"
      },
      "execution_count": null,
      "outputs": [
        {
          "output_type": "stream",
          "name": "stdout",
          "text": [
            "[3 1 0 0 6 6 1 4 2 1]\n",
            "[[3]\n",
            " [8]\n",
            " [8]\n",
            " [0]\n",
            " [6]\n",
            " [6]\n",
            " [1]\n",
            " [6]\n",
            " [3]\n",
            " [1]]\n"
          ]
        }
      ]
    },
    {
      "cell_type": "code",
      "source": [
        "# View the first five images, to check the validity of the labels\n",
        "for i in range(10):\n",
        "    plt.subplot(1,10,i+1)\n",
        "    plt.xticks([])\n",
        "    plt.yticks([])\n",
        "    plt.grid(False)\n",
        "    plt.imshow(x_test[i])\n",
        "#plt.xlabel(class_names[y_test[i][0]])\n",
        "plt.show()"
      ],
      "metadata": {
        "colab": {
          "base_uri": "https://localhost:8080/",
          "height": 63
        },
        "id": "Dew48ZskOxVv",
        "outputId": "00a0220a-46ef-4baa-bd3c-04d9298a4b0d"
      },
      "execution_count": null,
      "outputs": [
        {
          "output_type": "display_data",
          "data": {
            "text/plain": [
              "<Figure size 432x288 with 10 Axes>"
            ],
            "image/png": "[encoded data removed]"
          },
          "metadata": {}
        }
      ]
    }
  ]
}